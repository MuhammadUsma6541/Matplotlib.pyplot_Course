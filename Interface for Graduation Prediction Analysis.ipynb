{
 "cells": [
  {
   "cell_type": "code",
   "execution_count": 1,
   "id": "ba76a5be",
   "metadata": {},
   "outputs": [],
   "source": [
    "import pandas as pd"
   ]
  },
  {
   "cell_type": "code",
   "execution_count": 2,
   "id": "b3a8c07a",
   "metadata": {},
   "outputs": [],
   "source": [
    "import joblib\n",
    "from tkinter import Tk, Label, Entry, Button\n",
    "from sklearn.preprocessing import StandardScaler  # Assuming you need this for 'sc'\n",
    "\n",
    "# Initialize the main application window\n",
    "master = Tk()\n",
    "master.title(\"Graduate Admission Analysis\")\n",
    "\n",
    "# Assuming 'sc' is a preloaded StandardScaler object, you might need to load it similarly to your model\n",
    "# sc = joblib.load('scaler_path')  # Uncomment and specify path if needed\n",
    "\n",
    "# Function to predict and display admission chances\n",
    "def show_entry():\n",
    "    p1 = float(e1.get())\n",
    "    p2 = float(e2.get())\n",
    "    p3 = float(e3.get())\n",
    "    p4 = float(e4.get())\n",
    "    p5 = float(e5.get())\n",
    "    p6 = float(e6.get())\n",
    "    p7 = float(e7.get())\n",
    "    \n",
    "    model = joblib.load('admission_model')  # Load model\n",
    "    result = model.predict(sc.transform([[p1, p2, p3, p4, p5, p6, p7]]))\n",
    "    \n",
    "    if result == 1:\n",
    "        Label(master, text='High Chance of Getting Admission').grid(row=31)\n",
    "    else:\n",
    "        Label(master, text='Low Chance of Getting Admission').grid(row=31)\n",
    "\n",
    "# Labels and entry fields for user inputs\n",
    "labels = [\n",
    "    \"Enter Your GRE Score:\",\n",
    "    \"Enter Your TOEFL Score:\",\n",
    "    \"Enter Your University Rating:\",\n",
    "    \"Enter SOP:\",\n",
    "    \"Enter LOR:\",\n",
    "    \"Enter CGPA:\",\n",
    "    \"Research Done (1 for Yes, 0 for No):\"\n",
    "]\n",
    "entries = []\n",
    "\n",
    "for index, text in enumerate(labels, start=1):\n",
    "    Label(master, text=text).grid(row=index, sticky='w')\n",
    "    entry = Entry(master)\n",
    "    entry.grid(row=index, column=1)\n",
    "    entries.append(entry)\n",
    "\n",
    "e1, e2, e3, e4, e5, e6, e7 = entries  # Unpacking entries for individual use in show_entry\n",
    "\n",
    "# Button to trigger prediction\n",
    "Button(master, text=\"Predict\", command=show_entry).grid(columnspan=2)\n",
    "\n",
    "master.mainloop()  # Start the GUI application"
   ]
  },
  {
   "cell_type": "code",
   "execution_count": null,
   "id": "e82ca74f",
   "metadata": {},
   "outputs": [],
   "source": []
  }
 ],
 "metadata": {
  "kernelspec": {
   "display_name": "Python 3 (ipykernel)",
   "language": "python",
   "name": "python3"
  },
  "language_info": {
   "codemirror_mode": {
    "name": "ipython",
    "version": 3
   },
   "file_extension": ".py",
   "mimetype": "text/x-python",
   "name": "python",
   "nbconvert_exporter": "python",
   "pygments_lexer": "ipython3",
   "version": "3.11.5"
  }
 },
 "nbformat": 4,
 "nbformat_minor": 5
}
